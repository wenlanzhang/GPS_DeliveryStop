{
 "cells": [
  {
   "cell_type": "code",
   "execution_count": 1,
   "metadata": {},
   "outputs": [],
   "source": [
    "import os\n",
    "import glob\n",
    "import pandas as pd\n",
    "from geopy.distance import geodesic"
   ]
  },
  {
   "cell_type": "code",
   "execution_count": null,
   "metadata": {},
   "outputs": [],
   "source": [
    "Source = '/Users/zhangwenlan/Downloads/Tongji_RA/Data/Process/Processed/BuildingAmentity/22/'\n",
    "Disdestin = '/Users/zhangwenlan/Downloads/Tongji_RA/Data/Process/Processed/Distance/22/'\n",
    "os.chdir(Source)"
   ]
  },
  {
   "cell_type": "code",
   "execution_count": null,
   "metadata": {},
   "outputs": [],
   "source": [
    "for file in glob.glob(\"*.csv\"):\n",
    "    df = pd.read_csv(file)\n",
    "    print(file)\n",
    "    \n",
    "    # Calculate Distance from the previous stop\n",
    "\n",
    "    lon1 = df.loc[0]['MeanLon']\n",
    "    lat1 = df.loc[0]['MeanLat']\n",
    "    \n",
    "    # df['StartTime'] = pd.to_datetime(df['StartTime'], format='%Y/%m/%d')\n",
    "    # df['EndTime'] = pd.to_datetime(df['EndTime'], format='%Y/%m/%d')\n",
    "\n",
    "    for i, row in df.iterrows():\n",
    "        lon2 = df.loc[i]['MeanLon']\n",
    "        lat2 = df.loc[i]['MeanLat']\n",
    "        p1 = (lat1, lon1)\n",
    "        p2 = (lat2, lon2)\n",
    "        # https://gis.stackexchange.com/questions/84885/difference-between-vincenty-and-great-circle-distance-calculations\n",
    "        df.at[i, 'Distance(m)'] = geodesic(p1, p2).meters\n",
    "        lon1 = lon2\n",
    "        lat1 = lat2\n",
    "        \n",
    "    df.to_csv(Disdestin + file, index=False)  # Convert to CSV\n"
   ]
  },
  {
   "cell_type": "code",
   "execution_count": 2,
   "metadata": {},
   "outputs": [],
   "source": [
    "df = pd.read_csv('/Users/zhangwenlan/Downloads/Tongji_RA/Data/Process/Processed/BuildingAmentity/22/湘A-E2609.csv')"
   ]
  },
  {
   "cell_type": "code",
   "execution_count": 3,
   "metadata": {},
   "outputs": [
    {
     "data": {
      "text/plain": [
       "Index(['FileID', 'StopID', 'Car Plate', 'StartRow', 'EndRow', 'StartTime',\n",
       "       'EndTime', 'Duration(min)', 'Time Delta', 'MeanLat', 'MeanLon',\n",
       "       'Distance(m)', 'Location', 'SpeedBeforePark', 'Distance', 'Quantity',\n",
       "       'TrueStopFixed', 'Code', '400', '500', '1k', 'BuildNum700',\n",
       "       'AmenityRest'],\n",
       "      dtype='object')"
      ]
     },
     "execution_count": 3,
     "metadata": {},
     "output_type": "execute_result"
    }
   ],
   "source": [
    "df.columns"
   ]
  },
  {
   "cell_type": "code",
   "execution_count": null,
   "metadata": {},
   "outputs": [],
   "source": []
  },
  {
   "cell_type": "code",
   "execution_count": null,
   "metadata": {},
   "outputs": [],
   "source": []
  },
  {
   "cell_type": "code",
   "execution_count": null,
   "metadata": {},
   "outputs": [],
   "source": []
  },
  {
   "cell_type": "code",
   "execution_count": null,
   "metadata": {},
   "outputs": [],
   "source": []
  },
  {
   "cell_type": "code",
   "execution_count": null,
   "metadata": {},
   "outputs": [],
   "source": []
  }
 ],
 "metadata": {
  "kernelspec": {
   "display_name": "Python 3",
   "language": "python",
   "name": "python3"
  },
  "language_info": {
   "codemirror_mode": {
    "name": "ipython",
    "version": 3
   },
   "file_extension": ".py",
   "mimetype": "text/x-python",
   "name": "python",
   "nbconvert_exporter": "python",
   "pygments_lexer": "ipython3",
   "version": "3.7.9"
  }
 },
 "nbformat": 4,
 "nbformat_minor": 4
}
