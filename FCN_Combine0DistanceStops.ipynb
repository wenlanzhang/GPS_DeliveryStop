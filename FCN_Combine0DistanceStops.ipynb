{
 "cells": [
  {
   "cell_type": "markdown",
   "id": "932c5545",
   "metadata": {},
   "source": [
    "# Combine\n",
    "Combine the stops if the distance between them equals to zero  \n",
    "The step is to make sure all stops can get a course change (if same stops are not identified, course change is not available)"
   ]
  },
  {
   "cell_type": "code",
   "execution_count": 2,
   "id": "37a75bda",
   "metadata": {},
   "outputs": [],
   "source": [
    "import pandas as pd\n",
    "import numpy as np\n",
    "import os\n",
    "import glob"
   ]
  },
  {
   "cell_type": "code",
   "execution_count": 3,
   "id": "63027aa7",
   "metadata": {},
   "outputs": [],
   "source": [
    "Source = '/Users/zhangwenlan/Downloads/Tongji_RA/数据/Process/Processed/Added2/'\n",
    "Destion = '/Users/zhangwenlan/Downloads/Tongji_RA/数据/Process/Processed/0Combine/'"
   ]
  },
  {
   "cell_type": "code",
   "execution_count": 4,
   "id": "bafe8461",
   "metadata": {},
   "outputs": [
    {
     "ename": "FileNotFoundError",
     "evalue": "[Errno 2] No such file or directory: '/Users/zhangwenlan/Downloads/Tongji_RA/数据/Process/Processed/Added2/'",
     "output_type": "error",
     "traceback": [
      "\u001b[0;31m---------------------------------------------------------------------------\u001b[0m",
      "\u001b[0;31mFileNotFoundError\u001b[0m                         Traceback (most recent call last)",
      "\u001b[0;32m<ipython-input-4-205862db62d9>\u001b[0m in \u001b[0;36m<module>\u001b[0;34m\u001b[0m\n\u001b[0;32m----> 1\u001b[0;31m \u001b[0mos\u001b[0m\u001b[0;34m.\u001b[0m\u001b[0mchdir\u001b[0m\u001b[0;34m(\u001b[0m\u001b[0mSource\u001b[0m\u001b[0;34m)\u001b[0m\u001b[0;34m\u001b[0m\u001b[0;34m\u001b[0m\u001b[0m\n\u001b[0m\u001b[1;32m      2\u001b[0m \u001b[0;32mfor\u001b[0m \u001b[0mfile\u001b[0m \u001b[0;32min\u001b[0m \u001b[0mglob\u001b[0m\u001b[0;34m.\u001b[0m\u001b[0mglob\u001b[0m\u001b[0;34m(\u001b[0m\u001b[0;34m\"*.csv\"\u001b[0m\u001b[0;34m)\u001b[0m\u001b[0;34m:\u001b[0m\u001b[0;34m\u001b[0m\u001b[0;34m\u001b[0m\u001b[0m\n\u001b[1;32m      3\u001b[0m     \u001b[0mdf\u001b[0m \u001b[0;34m=\u001b[0m \u001b[0mpd\u001b[0m\u001b[0;34m.\u001b[0m\u001b[0mread_csv\u001b[0m\u001b[0;34m(\u001b[0m\u001b[0mfile\u001b[0m\u001b[0;34m)\u001b[0m      \u001b[0;31m# Read file\u001b[0m\u001b[0;34m\u001b[0m\u001b[0;34m\u001b[0m\u001b[0m\n\u001b[1;32m      4\u001b[0m     \u001b[0mdf\u001b[0m \u001b[0;34m=\u001b[0m \u001b[0mdf\u001b[0m\u001b[0;34m[\u001b[0m\u001b[0mdf\u001b[0m\u001b[0;34m[\u001b[0m\u001b[0;34m'MeanLat'\u001b[0m\u001b[0;34m]\u001b[0m\u001b[0;34m.\u001b[0m\u001b[0mnotna\u001b[0m\u001b[0;34m(\u001b[0m\u001b[0;34m)\u001b[0m\u001b[0;34m]\u001b[0m\u001b[0;34m\u001b[0m\u001b[0;34m\u001b[0m\u001b[0m\n\u001b[1;32m      5\u001b[0m \u001b[0;34m\u001b[0m\u001b[0m\n",
      "\u001b[0;31mFileNotFoundError\u001b[0m: [Errno 2] No such file or directory: '/Users/zhangwenlan/Downloads/Tongji_RA/数据/Process/Processed/Added2/'"
     ]
    }
   ],
   "source": [
    "os.chdir(Source)\n",
    "for file in glob.glob(\"*.csv\"):\n",
    "    df = pd.read_csv(file)      # Read file\n",
    "    df = df[df['MeanLat'].notna()]\n",
    "\n",
    "    print(file)\n",
    "    NewCol = df.columns\n",
    "    dfNew = pd.DataFrame(columns=NewCol)\n",
    "    NewStopID = 0\n",
    "    \n",
    "    for i, row in df.iterrows():\n",
    "        if i == 0:\n",
    "            dfNew.loc[i] = row\n",
    "            NewStopID += 1\n",
    "        if i > 0:\n",
    "            if df.loc[i]['Distance(m)'] <= 0: # 与前一个点相同：合并\n",
    "                dfNew.at[NewStopID-1, 'EndRow'] = df.loc[i]['EndRow']\n",
    "                dfNew.at[NewStopID-1, 'EndTime'] = df.loc[i]['EndTime']\n",
    "                \n",
    "                if df.loc[i]['TrueStopFixed'] == 1:\n",
    "                    dfNew.at[NewStopID-1, 'TrueStopFixed'] = df.loc[i]['TrueStopFixed']\n",
    "\n",
    "            # elif 50 < df.loc[i]['Distance(m)'] < 200000:  # 过大：直接舍弃\n",
    "            #     dfNew.loc[NewStopID] = row\n",
    "            #     dfNew.at[NewStopID, 'StopID'] = NewStopID\n",
    "            #\n",
    "            #     NewStopID += 1\n",
    "            \n",
    "            else:                                           # 不同点\n",
    "                dfNew.loc[NewStopID] = row\n",
    "                dfNew.at[NewStopID, 'StopID'] = NewStopID\n",
    "                NewStopID += 1\n",
    "\n",
    "    # Duration & Time Delta Calculation\n",
    "    dfNew['StartTime'] = pd.to_datetime(dfNew['StartTime'], format='%Y/%m/%d')\n",
    "    dfNew['EndTime'] = pd.to_datetime(dfNew['EndTime'], format='%Y/%m/%d')\n",
    "    dfNew['Duration(min)'] = (dfNew['EndTime'] - dfNew['StartTime']).astype('timedelta64[m]')\n",
    "    \n",
    "    for i, row in dfNew.iterrows():\n",
    "        if i == 0:\n",
    "            dfNew.at[i, 'Time Delta'] = 0\n",
    "        else:\n",
    "            dfNew.at[i, 'Time Delta'] = pd.Timedelta.total_seconds(dfNew.loc[i]['StartTime'] - dfNew.loc[i-1]['EndTime'])//60\n",
    "            # df.at[i, 'Time Delta'] = pd.Timedelta.to_timedelta64(df.at[i, 'Time Delta'])        # Unit: Nanosecond\n",
    "\n",
    "#     dfNew.to_csv(Destion + file, index=False)  # Convert to CSV\n"
   ]
  },
  {
   "cell_type": "code",
   "execution_count": null,
   "id": "188ae3ea",
   "metadata": {},
   "outputs": [],
   "source": []
  }
 ],
 "metadata": {
  "kernelspec": {
   "display_name": "Python 3",
   "language": "python",
   "name": "python3"
  },
  "language_info": {
   "codemirror_mode": {
    "name": "ipython",
    "version": 3
   },
   "file_extension": ".py",
   "mimetype": "text/x-python",
   "name": "python",
   "nbconvert_exporter": "python",
   "pygments_lexer": "ipython3",
   "version": "3.7.9"
  }
 },
 "nbformat": 4,
 "nbformat_minor": 5
}
