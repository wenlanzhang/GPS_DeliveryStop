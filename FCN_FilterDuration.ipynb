{
 "cells": [
  {
   "cell_type": "code",
   "execution_count": 7,
   "metadata": {},
   "outputs": [],
   "source": [
    "import pandas as pd\n",
    "import glob\n",
    "import os"
   ]
  },
  {
   "cell_type": "markdown",
   "metadata": {},
   "source": [
    "Delete stops longer than 24h"
   ]
  },
  {
   "cell_type": "code",
   "execution_count": 8,
   "metadata": {},
   "outputs": [],
   "source": [
    "Source = '/Users/zhangwenlan/Downloads/Tongji_RA/Data/Process/Processed/8QuantityCode/'\n",
    "OrderSource = '/Users/zhangwenlan/Downloads/Tongji_RA/Data/Process/Processed/Code/'\n",
    "os.chdir(Source)"
   ]
  },
  {
   "cell_type": "code",
   "execution_count": 9,
   "metadata": {},
   "outputs": [],
   "source": [
    "Destin = '/Users/zhangwenlan/Downloads/Tongji_RA/Data/Process/Processed/24hFilter/'\n",
    "OrderDestin = '/Users/zhangwenlan/Downloads/Tongji_RA/Data/Process/Processed/24hOrder/'"
   ]
  },
  {
   "cell_type": "code",
   "execution_count": 10,
   "metadata": {},
   "outputs": [],
   "source": [
    "dfTrueStop = pd.read_csv('/Users/zhangwenlan/Downloads/Tongji_RA/Data/Process/Processed/8QuantityCode/Processed/TrueStop.csv')\n",
    "\n",
    "dfTrueStoplt24 = dfTrueStop[dfTrueStop['Duration(min)'] < 1440] \n",
    "\n",
    "AllCode = dfTrueStop['Code'].tolist()\n",
    "Lt24Code = dfTrueStoplt24['Code'].tolist()\n",
    "gte24Code = list(set(AllCode) - set(Lt24Code))\n"
   ]
  },
  {
   "cell_type": "code",
   "execution_count": 12,
   "metadata": {
    "scrolled": true
   },
   "outputs": [
    {
     "name": "stdout",
     "output_type": "stream",
     "text": [
      "湘A-E2628.csv\n",
      "湘A-A0355.csv\n",
      "湘A-C1827.csv\n",
      "湘J-A1715.csv\n",
      "湘A-E2601.csv\n",
      "湘A-C1415.csv\n",
      "湘A-C1367.csv\n",
      "湘J-06653.csv\n",
      "湘A-D2570.csv\n",
      "湘A-A3931.csv\n",
      "湘A-C1825.csv\n",
      "湘A-29058.csv\n",
      "湘A-E2616.csv\n",
      "湘A-C1835.csv\n",
      "湘A-C5919.csv\n",
      "湘A-A3920.csv\n",
      "湘A-C1820.csv\n",
      "湘A-D2577.csv\n",
      "湘A-C2655.csv\n",
      "湘A-D2510.csv\n",
      "湘A-54170.csv\n",
      "湘A-D1178.csv\n",
      "湘A-A3831.csv\n",
      "湘A-54238.csv\n",
      "湘A-B1710.csv\n",
      "湘A-D1157.csv\n",
      "湘J-A2292.csv\n",
      "湘A-B0422.csv\n",
      "湘A-A3572.csv\n",
      "湘A-D1156.csv\n",
      "湘A-A3570.csv\n",
      "湘A-57440.csv\n",
      "湘A-E1193.csv\n",
      "湘A-D1170.csv\n",
      "湘A-A1828.csv\n",
      "湘A-D1159.csv\n",
      "湘A-D1171.csv\n",
      "湘A-D1165.csv\n",
      "湘A-54379.csv\n",
      "湘A-54387.csv\n",
      "湘A-D1166.csv\n",
      "湘A-54369.csv\n",
      "湘A-54221.csv\n",
      "湘A-D3789.csv\n",
      "湘A-D1160.csv\n",
      "湘J-A2836.csv\n",
      "湘A-E2609.csv\n",
      "湘A-C1806.csv\n",
      "湘A-D2220.csv\n",
      "湘A-D4081.csv\n",
      "湘A-E2622.csv\n",
      "湘A-C1805.csv\n",
      "湘A-D2578.csv\n",
      "湘A-D1317.csv\n",
      "湘A-57400.csv\n",
      "湘A-C2661.csv\n",
      "湘A-A3902.csv\n",
      "湘A-E2547.csv\n"
     ]
    }
   ],
   "source": [
    "for file in glob.glob(\"*.csv\"):\n",
    "    df = pd.read_csv(file)\n",
    "    dfOrder = pd.read_csv(OrderSource + file)\n",
    "    print(file)\n",
    "    \n",
    "    for i, row in df.iterrows():\n",
    "        if df.loc[i]['Code'] in gte24Code:\n",
    "            dfOrder = dfOrder.drop(dfOrder.index[dfOrder['Code'] == df.loc[i]['Code']].tolist())\n",
    "            df = df.drop(i)\n",
    "\n",
    "    \n",
    "    df.to_csv(Destin + file, index = False)\n",
    "    dfOrder.to_csv(OrderDestin + file, index = False)\n",
    "    \n",
    "    "
   ]
  },
  {
   "cell_type": "code",
   "execution_count": null,
   "metadata": {},
   "outputs": [],
   "source": []
  }
 ],
 "metadata": {
  "kernelspec": {
   "display_name": "Python 3",
   "language": "python",
   "name": "python3"
  },
  "language_info": {
   "codemirror_mode": {
    "name": "ipython",
    "version": 3
   },
   "file_extension": ".py",
   "mimetype": "text/x-python",
   "name": "python",
   "nbconvert_exporter": "python",
   "pygments_lexer": "ipython3",
   "version": "3.7.9"
  }
 },
 "nbformat": 4,
 "nbformat_minor": 4
}
