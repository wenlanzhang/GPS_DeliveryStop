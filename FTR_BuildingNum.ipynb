{
 "cells": [
  {
   "cell_type": "code",
   "execution_count": 1,
   "id": "6ff2b17a",
   "metadata": {},
   "outputs": [],
   "source": [
    "import os\n",
    "import glob\n",
    "import requests\n",
    "import osmnx as ox\n",
    "import pandas as pd\n",
    "import geopandas as gpd"
   ]
  },
  {
   "cell_type": "code",
   "execution_count": 2,
   "id": "677c83a1",
   "metadata": {},
   "outputs": [],
   "source": [
    "Source = '/Users/zhangwenlan/Downloads/Tongji_RA/Data/Process/Processed/RP/31_500/'\n",
    "Destin = '/Users/zhangwenlan/Downloads/Tongji_RA/Data/Process/Processed/BuildNum/31_700/'\n",
    "os.chdir(Source)"
   ]
  },
  {
   "cell_type": "markdown",
   "id": "9bd19133",
   "metadata": {},
   "source": [
    "### Building Number"
   ]
  },
  {
   "cell_type": "code",
   "execution_count": 14,
   "id": "86b5304e",
   "metadata": {},
   "outputs": [],
   "source": [
    "# Set Parameters\n",
    "\n",
    "tags = {'building': True}\n",
    "distance = 700"
   ]
  },
  {
   "cell_type": "code",
   "execution_count": 24,
   "id": "cc62460a",
   "metadata": {
    "collapsed": true
   },
   "outputs": [
    {
     "name": "stdout",
     "output_type": "stream",
     "text": [
      "湘A-E2628.csvdone\n",
      "湘A-A0355.csvdone\n",
      "湘A-C1827.csvdone\n",
      "湘J-A1715.csvdone\n",
      "湘A-E2601.csvdone\n",
      "湘A-C1415.csvdone\n",
      "湘A-C1367.csvdone\n",
      "湘J-06653.csvdone\n",
      "湘A-D2570.csvdone\n",
      "湘A-A3931.csvdone\n",
      "湘A-C1825.csvdone\n",
      "湘A-29058.csvdone\n",
      "湘A-E2616.csvdone\n",
      "湘A-C1835.csvdone\n",
      "湘A-C5919.csvdone\n",
      "湘A-A3920.csvdone\n",
      "湘A-C1820.csvdone\n",
      "湘A-D2577.csvdone\n",
      "湘A-C2655.csvdone\n",
      "湘A-D2510.csvdone\n",
      "湘A-54170.csvdone\n",
      "湘A-D1178.csvdone\n",
      "湘A-A3831.csvdone\n",
      "湘A-54238.csvdone\n",
      "湘A-B1710.csvdone\n",
      "湘A-D1157.csvdone\n",
      "湘J-A2292.csvdone\n",
      "湘A-B0422.csvdone\n",
      "湘A-A3572.csvdone\n",
      "湘A-D1156.csvdone\n",
      "湘A-A3570.csvdone\n",
      "湘A-57440.csvdone\n",
      "湘A-E1193.csvdone\n",
      "湘A-D1170.csvdone\n",
      "湘A-A1828.csvdone\n",
      "湘A-D1159.csvdone\n",
      "湘A-D1171.csvdone\n",
      "湘A-D1165.csvdone\n",
      "湘A-54379.csvdone\n",
      "湘A-54387.csvdone\n",
      "湘A-D1166.csvdone\n",
      "湘A-54369.csvdone\n",
      "湘A-54221.csvdone\n",
      "湘A-D3789.csvdone\n",
      "湘A-D1160.csvdone\n",
      "湘J-A2836.csvdone\n",
      "湘A-E2609.csvdone\n",
      "湘A-C1806.csvdone\n",
      "湘A-D2220.csvdone\n",
      "湘A-D4081.csvdone\n",
      "湘A-E2622.csvdone\n",
      "湘A-C1805.csvdone\n",
      "湘A-D2578.csvdone\n",
      "湘A-D1317.csvdone\n",
      "湘A-57400.csv\n",
      "55\n",
      "湘A-C2661.csv\n",
      "56\n",
      "湘A-A3902.csv\n",
      "57\n",
      "湘A-E2547.csv\n",
      "58\n"
     ]
    }
   ],
   "source": [
    "os.chdir(Source)\n",
    "for file in glob.glob(\"*.csv\"):\n",
    "    if os.path.exists(Destin + file):\n",
    "        print(file + str('done'))\n",
    "    else:\n",
    "        df = pd.read_csv(file)      # Read file\n",
    "        print(file)\n",
    "        print(df.loc[0]['FileID'])\n",
    "\n",
    "        for i, row in df.iterrows():\n",
    "            lon = df.loc[i]['MeanLon']\n",
    "            lat = df.loc[i]['MeanLat']\n",
    "            center_point = (lat, lon)\n",
    "            buildings = ox.geometries.geometries_from_point(center_point, tags, dist = distance)\n",
    "    #         print(len(buildings))\n",
    "            df.at[i, 'BuildingNum700'] = len(buildings)\n",
    "\n",
    "        df.to_csv(Destin + file, index = False)\n",
    "        \n",
    "        "
   ]
  },
  {
   "cell_type": "markdown",
   "id": "f132edf9",
   "metadata": {},
   "source": [
    "### Restaurant Number\n"
   ]
  },
  {
   "cell_type": "code",
   "execution_count": 9,
   "id": "f5092422",
   "metadata": {},
   "outputs": [],
   "source": [
    "Source = '/Users/zhangwenlan/Downloads/Tongji_RA/Data/Process/Processed/31/'\n",
    "Destin = '/Users/zhangwenlan/Downloads/Tongji_RA/Data/Process/Processed/Rest/31/'\n",
    "os.chdir(Source)"
   ]
  },
  {
   "cell_type": "code",
   "execution_count": 16,
   "id": "9368c176",
   "metadata": {},
   "outputs": [],
   "source": [
    "# Set Parameters\n",
    "tags = {\"amenity\": \"restaurant\"}\n",
    "distance = 1000"
   ]
  },
  {
   "cell_type": "code",
   "execution_count": 31,
   "id": "d8171e62",
   "metadata": {
    "scrolled": true
   },
   "outputs": [
    {
     "name": "stdout",
     "output_type": "stream",
     "text": [
      "湘A-E2628.csvdone\n",
      "湘A-A0355.csvdone\n",
      "湘A-C1827.csvdone\n",
      "湘J-A1715.csvdone\n",
      "湘A-E2601.csvdone\n",
      "湘A-C1415.csvdone\n",
      "湘A-C1367.csvdone\n",
      "湘J-06653.csvdone\n",
      "湘A-D2570.csvdone\n",
      "湘A-A3931.csvdone\n",
      "湘A-C1825.csvdone\n",
      "湘A-29058.csvdone\n",
      "湘A-E2616.csvdone\n",
      "湘A-C1835.csvdone\n",
      "湘A-C5919.csvdone\n",
      "湘A-A3920.csvdone\n",
      "湘A-C1820.csvdone\n",
      "湘A-D2577.csvdone\n",
      "湘A-C2655.csvdone\n",
      "湘A-D2510.csvdone\n",
      "湘A-54170.csvdone\n",
      "湘A-D1178.csvdone\n",
      "湘A-A3831.csvdone\n",
      "湘A-54238.csvdone\n",
      "湘A-B1710.csvdone\n",
      "湘A-D1157.csvdone\n",
      "湘J-A2292.csvdone\n",
      "湘A-B0422.csvdone\n",
      "湘A-A3572.csvdone\n",
      "湘A-D1156.csvdone\n",
      "湘A-A3570.csvdone\n",
      "湘A-57440.csvdone\n",
      "湘A-E1193.csvdone\n",
      "湘A-D1170.csvdone\n",
      "湘A-A1828.csvdone\n",
      "湘A-D1159.csvdone\n",
      "湘A-D1171.csvdone\n",
      "湘A-D1165.csvdone\n",
      "湘A-54379.csvdone\n",
      "湘A-54387.csvdone\n",
      "湘A-D1166.csvdone\n",
      "湘A-54369.csvdone\n",
      "湘A-54221.csvdone\n",
      "湘A-D3789.csvdone\n",
      "湘A-D1160.csvdone\n",
      "湘J-A2836.csvdone\n",
      "湘A-E2609.csvdone\n",
      "湘A-C1806.csvdone\n",
      "湘A-D2220.csvdone\n",
      "湘A-D4081.csvdone\n",
      "湘A-E2622.csvdone\n",
      "湘A-C1805.csvdone\n",
      "湘A-D2578.csvdone\n",
      "湘A-D1317.csvdone\n",
      "湘A-57400.csvdone\n",
      "湘A-C2661.csvdone\n",
      "湘A-A3902.csvdone\n",
      "湘A-E2547.csvdone\n"
     ]
    }
   ],
   "source": [
    "os.chdir(Source)\n",
    "for file in glob.glob(\"*.csv\"):\n",
    "    if os.path.exists(Destin + file):\n",
    "        print(file + str('done'))\n",
    "    else:\n",
    "        df = pd.read_csv(file)      # Read file\n",
    "        print(file)\n",
    "        print(df.loc[0]['FileID'])\n",
    "\n",
    "        for i, row in df.iterrows():\n",
    "            lon = df.loc[i]['MeanLon']\n",
    "            lat = df.loc[i]['MeanLat']\n",
    "            center_point = (lat, lon)\n",
    "            buildings = ox.geometries.geometries_from_point(center_point, tags, distance)\n",
    "    #         print(len(buildings))\n",
    "            df.at[i, 'AmenityRest'] = len(buildings)\n",
    "\n",
    "        df.to_csv(Destin + file, index = False)"
   ]
  },
  {
   "cell_type": "code",
   "execution_count": null,
   "id": "e7242be3",
   "metadata": {},
   "outputs": [],
   "source": []
  }
 ],
 "metadata": {
  "kernelspec": {
   "display_name": "Python 3 (ipykernel)",
   "language": "python",
   "name": "python3"
  },
  "language_info": {
   "codemirror_mode": {
    "name": "ipython",
    "version": 3
   },
   "file_extension": ".py",
   "mimetype": "text/x-python",
   "name": "python",
   "nbconvert_exporter": "python",
   "pygments_lexer": "ipython3",
   "version": "3.10.5"
  }
 },
 "nbformat": 4,
 "nbformat_minor": 5
}
