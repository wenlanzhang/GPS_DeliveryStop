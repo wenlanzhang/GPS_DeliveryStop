{
 "cells": [
  {
   "cell_type": "code",
   "execution_count": null,
   "id": "6a0cb42b",
   "metadata": {},
   "outputs": [],
   "source": [
    "pip install numpy"
   ]
  },
  {
   "cell_type": "code",
   "execution_count": 1,
   "id": "d7b74f57",
   "metadata": {},
   "outputs": [],
   "source": [
    "import pandas as pd\n",
    "import numpy as np\n",
    "import math\n",
    "import os\n",
    "import glob"
   ]
  },
  {
   "cell_type": "code",
   "execution_count": 6,
   "id": "97244dfd",
   "metadata": {},
   "outputs": [],
   "source": [
    "Source = '/Users/zhangwenlan/Downloads/Tongji_RA/数据/Process/Processed/0Combine/'\n",
    "Destin = '/Users/zhangwenlan/Downloads/Tongji_RA/数据/Process/Processed/8CC(DeliveryStop)/'"
   ]
  },
  {
   "cell_type": "code",
   "execution_count": 7,
   "id": "b2d3e942",
   "metadata": {},
   "outputs": [],
   "source": [
    "def latlong_to_3d(latr, lonr):\n",
    "    return np.array((math.cos(latr) * math.cos(lonr), math.cos(latr) * math.sin(lonr), math.sin(latr)))\n",
    "\n",
    "\n",
    "def angle_between_vectors_degrees(u, v):\n",
    "    TemA = np.dot(avec, cvec) / (np.linalg.norm(avec) * np.linalg.norm(cvec))\n",
    "    if TemA > 1:\n",
    "        TemB = 0\n",
    "    else:\n",
    "        TemB = np.degrees(math.acos(TemA))\n",
    "    return TemB\n",
    "    # return np.degrees(math.acos(np.dot(u, v) / (np.linalg.norm(u) * np.linalg.norm(v))))"
   ]
  },
  {
   "cell_type": "code",
   "execution_count": 9,
   "id": "b8ca1b6c",
   "metadata": {
    "scrolled": true
   },
   "outputs": [
    {
     "name": "stdout",
     "output_type": "stream",
     "text": [
      "湘A-E2628.csv\n",
      "湘A-A0355.csv\n",
      "湘A-C1827.csv\n",
      "湘J-A1715.csv\n",
      "湘A-E2601.csv\n",
      "湘A-C1415.csv\n",
      "湘A-C1367.csv\n",
      "湘J-06653.csv\n",
      "湘A-D2570.csv\n",
      "湘A-A3931.csv\n",
      "湘A-C1825.csv\n",
      "湘A-29058.csv\n",
      "湘A-E2616.csv\n",
      "湘A-C1835.csv\n",
      "湘A-C5919.csv\n",
      "湘A-A3920.csv\n",
      "湘A-C1820.csv\n",
      "湘A-D2577.csv\n",
      "湘A-C2655.csv\n",
      "湘A-D2510.csv\n",
      "湘A-54170.csv\n",
      "湘A-D1178.csv\n",
      "湘A-A3831.csv\n",
      "湘A-54238.csv\n",
      "湘A-B1710.csv\n",
      "湘A-D1157.csv\n",
      "湘J-A2292.csv\n",
      "湘A-B0422.csv\n",
      "湘A-A3572.csv\n",
      "湘A-D1156.csv\n",
      "湘A-A3570.csv\n",
      "湘A-57440.csv\n",
      "湘A-E1193.csv\n",
      "湘A-D1170.csv\n",
      "湘A-A1828.csv\n",
      "湘A-D1159.csv\n",
      "湘A-D1171.csv\n",
      "湘A-D1165.csv\n",
      "湘A-54379.csv\n",
      "湘A-54387.csv\n",
      "湘A-D1166.csv\n",
      "湘A-54369.csv\n",
      "湘A-54221.csv\n",
      "湘A-D3789.csv\n",
      "湘A-D1160.csv\n",
      "湘J-A2836.csv\n",
      "湘A-E2609.csv\n",
      "湘A-C1806.csv\n",
      "湘A-D2220.csv\n",
      "湘A-D4081.csv\n",
      "湘A-E2622.csv\n",
      "湘A-C1805.csv\n",
      "湘A-D2578.csv\n",
      "湘A-D1317.csv\n",
      "湘A-57400.csv\n",
      "湘A-C2661.csv\n",
      "湘A-A3902.csv\n",
      "湘A-E2547.csv\n"
     ]
    }
   ],
   "source": [
    "os.chdir(Source)\n",
    "\n",
    "for file in glob.glob(\"*.csv\"):\n",
    "    df = pd.read_csv(file)  # Read file\n",
    "    print(file)\n",
    "    df = df[df['MeanLat'].notna()]\n",
    "\n",
    "\n",
    "    lonlist = df['MeanLon']\n",
    "    latlist = df['MeanLat']\n",
    "\n",
    "    i = 1\n",
    "    while 0 < i < len(df) - 1:\n",
    "        R = float(lonlist[i - 1])\n",
    "        r = float(latlist[i - 1])\n",
    "        F = float(lonlist[i])\n",
    "        f = float(latlist[i])\n",
    "        V = float(lonlist[i + 1])\n",
    "        v = float(latlist[i + 1])\n",
    "        A = (r, R)\n",
    "        B = (f, F)\n",
    "        C = (v, V)\n",
    "        # Convert the points to numpy latitude/longitude radians space\n",
    "        a = np.radians(np.array(A))\n",
    "        b = np.radians(np.array(B))\n",
    "        c = np.radians(np.array(C))\n",
    "        # Vectors in latitude/longitude space\n",
    "        avec = a - b\n",
    "        cvec = c - b\n",
    "        # Adjust vectors for changed longitude scale at given latitude into 2D space\n",
    "        lat = b[0]\n",
    "        avec[1] *= math.cos(lat)\n",
    "        cvec[1] *= math.cos(lat)\n",
    "        # Find the angle between the vectors in 2D space\n",
    "        angle2deg = angle_between_vectors_degrees(avec, cvec)\n",
    "        # The points in 3D space\n",
    "        a3 = latlong_to_3d(*a)\n",
    "        b3 = latlong_to_3d(*b)\n",
    "        c3 = latlong_to_3d(*c)\n",
    "        # Vectors in 3D space\n",
    "        a3vec = a3 - b3\n",
    "        c3vec = c3 - b3\n",
    "        # Find the angle between the vectors in 2D space\n",
    "        angle3deg = angle_between_vectors_degrees(a3vec, c3vec)\n",
    "        # Print the results\n",
    "        # print('\\nThe angle ABC in 2D space in degrees:', angle2deg)\n",
    "        list1.append(angle3deg)  ## 追加\n",
    "        df.at[i, 'CourseChangeTest'] = angle3deg\n",
    "        i += 1\n",
    "        \n",
    "    df.to_csv(Destin + file, index=False)\n"
   ]
  },
  {
   "cell_type": "code",
   "execution_count": null,
   "id": "025f67ac",
   "metadata": {},
   "outputs": [],
   "source": []
  }
 ],
 "metadata": {
  "kernelspec": {
   "display_name": "Python 3 (ipykernel)",
   "language": "python",
   "name": "python3"
  },
  "language_info": {
   "codemirror_mode": {
    "name": "ipython",
    "version": 3
   },
   "file_extension": ".py",
   "mimetype": "text/x-python",
   "name": "python",
   "nbconvert_exporter": "python",
   "pygments_lexer": "ipython3",
   "version": "3.10.5"
  }
 },
 "nbformat": 4,
 "nbformat_minor": 5
}
