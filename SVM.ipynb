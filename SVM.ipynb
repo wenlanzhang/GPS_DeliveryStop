{
 "cells": [
  {
   "cell_type": "code",
   "execution_count": 10,
   "metadata": {},
   "outputs": [],
   "source": [
    "import pandas as pd\n",
    "import matplotlib.pyplot as plt\n",
    "from sklearn.svm import SVC\n",
    "from sklearn.utils import resample\n",
    "from sklearn.preprocessing import scale\n",
    "from sklearn.metrics import plot_confusion_matrix\n",
    "from sklearn.model_selection import train_test_split, GridSearchCV, StratifiedKFold"
   ]
  },
  {
   "cell_type": "code",
   "execution_count": 2,
   "metadata": {},
   "outputs": [
    {
     "name": "stdout",
     "output_type": "stream",
     "text": [
      "Index(['FileID', 'StopID', 'Car Plate', 'StartRow', 'EndRow', 'StartTime',\n",
      "       'EndTime', 'Duration(min)', 'Time Delta', 'MeanLat', 'MeanLon',\n",
      "       'Distance(m)', 'Location', 'SpeedBeforePark', 'TrueStop', 'Distance',\n",
      "       'Quantity', 'TrueStopFixed', 'CourseChangeTest', '500m', '3Class'],\n",
      "      dtype='object')\n"
     ]
    }
   ],
   "source": [
    "df = pd.read_csv('/Users/zhangwenlan/Downloads/Tongji_RA/Data/Process/Processed/9RPoints/Processed/Sum1.csv')\n",
    "print(df.columns)"
   ]
  },
  {
   "cell_type": "markdown",
   "metadata": {},
   "source": [
    "## Missing Data"
   ]
  },
  {
   "cell_type": "code",
   "execution_count": 3,
   "metadata": {
    "scrolled": true
   },
   "outputs": [
    {
     "data": {
      "text/plain": [
       "FileID                int64\n",
       "StopID                int64\n",
       "Car Plate            object\n",
       "StartRow              int64\n",
       "EndRow                int64\n",
       "StartTime            object\n",
       "EndTime              object\n",
       "Duration(min)         int64\n",
       "Time Delta          float64\n",
       "MeanLat             float64\n",
       "MeanLon             float64\n",
       "Distance(m)         float64\n",
       "Location             object\n",
       "SpeedBeforePark     float64\n",
       "TrueStop              int64\n",
       "Distance            float64\n",
       "Quantity            float64\n",
       "TrueStopFixed         int64\n",
       "CourseChangeTest    float64\n",
       "500m                  int64\n",
       "3Class                int64\n",
       "dtype: object"
      ]
     },
     "execution_count": 3,
     "metadata": {},
     "output_type": "execute_result"
    }
   ],
   "source": [
    "df.dtypes\n",
    "# how to check no NA value?"
   ]
  },
  {
   "cell_type": "code",
   "execution_count": 4,
   "metadata": {
    "scrolled": true
   },
   "outputs": [
    {
     "data": {
      "text/html": [
       "<div>\n",
       "<style scoped>\n",
       "    .dataframe tbody tr th:only-of-type {\n",
       "        vertical-align: middle;\n",
       "    }\n",
       "\n",
       "    .dataframe tbody tr th {\n",
       "        vertical-align: top;\n",
       "    }\n",
       "\n",
       "    .dataframe thead th {\n",
       "        text-align: right;\n",
       "    }\n",
       "</style>\n",
       "<table border=\"1\" class=\"dataframe\">\n",
       "  <thead>\n",
       "    <tr style=\"text-align: right;\">\n",
       "      <th></th>\n",
       "      <th>FileID</th>\n",
       "      <th>StopID</th>\n",
       "      <th>Car Plate</th>\n",
       "      <th>StartRow</th>\n",
       "      <th>EndRow</th>\n",
       "      <th>StartTime</th>\n",
       "      <th>EndTime</th>\n",
       "      <th>Duration(min)</th>\n",
       "      <th>Time Delta</th>\n",
       "      <th>MeanLat</th>\n",
       "      <th>...</th>\n",
       "      <th>Distance(m)</th>\n",
       "      <th>Location</th>\n",
       "      <th>SpeedBeforePark</th>\n",
       "      <th>TrueStop</th>\n",
       "      <th>Distance</th>\n",
       "      <th>Quantity</th>\n",
       "      <th>TrueStopFixed</th>\n",
       "      <th>CourseChangeTest</th>\n",
       "      <th>500m</th>\n",
       "      <th>3Class</th>\n",
       "    </tr>\n",
       "  </thead>\n",
       "  <tbody>\n",
       "  </tbody>\n",
       "</table>\n",
       "<p>0 rows × 21 columns</p>\n",
       "</div>"
      ],
      "text/plain": [
       "Empty DataFrame\n",
       "Columns: [FileID, StopID, Car Plate, StartRow, EndRow, StartTime, EndTime, Duration(min), Time Delta, MeanLat, MeanLon, Distance(m), Location, SpeedBeforePark, TrueStop, Distance, Quantity, TrueStopFixed, CourseChangeTest, 500m, 3Class]\n",
       "Index: []\n",
       "\n",
       "[0 rows x 21 columns]"
      ]
     },
     "execution_count": 4,
     "metadata": {},
     "output_type": "execute_result"
    }
   ],
   "source": [
    "# Check rows with missing data\n",
    "df[df.isna().any(axis=1)]"
   ]
  },
  {
   "cell_type": "code",
   "execution_count": 5,
   "metadata": {
    "scrolled": true
   },
   "outputs": [
    {
     "name": "stdout",
     "output_type": "stream",
     "text": [
      "       FileID  StopID  Car Plate  StartRow  EndRow  StartTime  EndTime  \\\n",
      "0       False   False      False     False   False      False    False   \n",
      "1       False   False      False     False   False      False    False   \n",
      "2       False   False      False     False   False      False    False   \n",
      "3       False   False      False     False   False      False    False   \n",
      "4       False   False      False     False   False      False    False   \n",
      "...       ...     ...        ...       ...     ...        ...      ...   \n",
      "41630   False   False      False     False   False      False    False   \n",
      "41631   False   False      False     False   False      False    False   \n",
      "41632   False   False      False     False   False      False    False   \n",
      "41633   False   False      False     False   False      False    False   \n",
      "41634   False   False      False     False   False      False    False   \n",
      "\n",
      "       Duration(min)  Time Delta  MeanLat  ...  Distance(m)  Location  \\\n",
      "0              False       False    False  ...        False     False   \n",
      "1              False       False    False  ...        False     False   \n",
      "2              False       False    False  ...        False     False   \n",
      "3              False       False    False  ...        False     False   \n",
      "4              False       False    False  ...        False     False   \n",
      "...              ...         ...      ...  ...          ...       ...   \n",
      "41630          False       False    False  ...        False     False   \n",
      "41631          False       False    False  ...        False     False   \n",
      "41632          False       False    False  ...        False     False   \n",
      "41633          False       False    False  ...        False     False   \n",
      "41634          False       False    False  ...        False     False   \n",
      "\n",
      "       SpeedBeforePark  TrueStop  Distance  Quantity  TrueStopFixed  \\\n",
      "0                False     False     False     False          False   \n",
      "1                False     False     False     False          False   \n",
      "2                False     False     False     False          False   \n",
      "3                False     False     False     False          False   \n",
      "4                False     False     False     False          False   \n",
      "...                ...       ...       ...       ...            ...   \n",
      "41630            False     False     False     False          False   \n",
      "41631            False     False     False     False          False   \n",
      "41632            False     False     False     False          False   \n",
      "41633            False     False     False     False          False   \n",
      "41634            False     False     False     False          False   \n",
      "\n",
      "       CourseChangeTest   500m  3Class  \n",
      "0                 False  False   False  \n",
      "1                 False  False   False  \n",
      "2                 False  False   False  \n",
      "3                 False  False   False  \n",
      "4                 False  False   False  \n",
      "...                 ...    ...     ...  \n",
      "41630             False  False   False  \n",
      "41631             False  False   False  \n",
      "41632             False  False   False  \n",
      "41633             False  False   False  \n",
      "41634             False  False   False  \n",
      "\n",
      "[41635 rows x 21 columns]\n"
     ]
    }
   ],
   "source": [
    "print(df.isnull())"
   ]
  },
  {
   "cell_type": "code",
   "execution_count": 6,
   "metadata": {},
   "outputs": [
    {
     "name": "stdout",
     "output_type": "stream",
     "text": [
      "Empty DataFrame\n",
      "Columns: []\n",
      "Index: [0, 1, 2, 3, 4, 5, 6, 7, 8, 9, 10, 11, 12, 13, 14, 15, 16, 17, 18, 19, 20, 21, 22, 23, 24, 25, 26, 27, 28, 29, 30, 31, 32, 33, 34, 35, 36, 37, 38, 39, 40, 41, 42, 43, 44, 45, 46, 47, 48, 49, 50, 51, 52, 53, 54, 55, 56, 57, 58, 59, 60, 61, 62, 63, 64, 65, 66, 67, 68, 69, 70, 71, 72, 73, 74, 75, 76, 77, 78, 79, 80, 81, 82, 83, 84, 85, 86, 87, 88, 89, 90, 91, 92, 93, 94, 95, 96, 97, 98, 99, ...]\n",
      "\n",
      "[41635 rows x 0 columns]\n"
     ]
    }
   ],
   "source": [
    "# Extract columns that contain at least one missing value:\n",
    "print(df.loc[:, df.isnull().any()])"
   ]
  },
  {
   "cell_type": "code",
   "execution_count": 7,
   "metadata": {},
   "outputs": [
    {
     "name": "stdout",
     "output_type": "stream",
     "text": [
      "Empty DataFrame\n",
      "Columns: [FileID, StopID, Car Plate, StartRow, EndRow, StartTime, EndTime, Duration(min), Time Delta, MeanLat, MeanLon, Distance(m), Location, SpeedBeforePark, TrueStop, Distance, Quantity, TrueStopFixed, CourseChangeTest, 500m, 3Class]\n",
      "Index: []\n",
      "\n",
      "[0 rows x 21 columns]\n"
     ]
    }
   ],
   "source": [
    "# Extract rows that contain at least one missing value:\n",
    "print(df[df.isnull().any(axis=1)])"
   ]
  },
  {
   "cell_type": "markdown",
   "metadata": {},
   "source": [
    "## Split dataset & Scale"
   ]
  },
  {
   "cell_type": "code",
   "execution_count": 16,
   "metadata": {},
   "outputs": [],
   "source": [
    "# Format data1: X and Y - Split into Dependent and Independent Variables\n",
    "X = df[['Duration(min)', '500m', 'SpeedBeforePark']].copy()\n",
    "# df_new = df[['Duration(min)','500m', 'SpeedBeforePark']]\n",
    "Y = df['TrueStopFixed'].copy()"
   ]
  },
  {
   "cell_type": "markdown",
   "metadata": {},
   "source": [
    "## K-fold"
   ]
  },
  {
   "cell_type": "code",
   "execution_count": 17,
   "metadata": {},
   "outputs": [
    {
     "name": "stdout",
     "output_type": "stream",
     "text": [
      ">Train: Train Negative = 32915, Train Positive = 393, Test Negative = 8229, Test Positive = 98\n",
      ">Train: Train Negative = 32915, Train Positive = 393, Test Negative = 8229, Test Positive = 98\n",
      ">Train: Train Negative = 32915, Train Positive = 393, Test Negative = 8229, Test Positive = 98\n",
      ">Train: Train Negative = 32915, Train Positive = 393, Test Negative = 8229, Test Positive = 98\n",
      ">Train: Train Negative = 32916, Train Positive = 392, Test Negative = 8228, Test Positive = 99\n"
     ]
    }
   ],
   "source": [
    "kfold = StratifiedKFold(n_splits=5, shuffle=True, random_state=None)   # random_state\n",
    "# enumerate the splits and summarize the distributions\n",
    "for train_ix, test_ix in kfold.split(X, Y):\n",
    "    # select rows\n",
    "    train_data, test_data = X.iloc[train_ix], X.iloc[test_ix]\n",
    "    train_label, test_label = Y.iloc[train_ix], Y.iloc[test_ix]\n",
    "    # summarize train and test composition\n",
    "    train_neg, train_pos = len(train_label[train_label == 0]), len(train_label[train_label == 1])\n",
    "    test_neg, test_pos = len(test_label[test_label == 0]), len(test_label[test_label == 1])\n",
    "    print('>Train: Train Negative = %d, Train Positive = %d, Test Negative = %d, Test Positive = %d' % (\n",
    "        train_neg, train_pos, test_neg, test_pos))"
   ]
  },
  {
   "cell_type": "code",
   "execution_count": 13,
   "metadata": {
    "scrolled": true
   },
   "outputs": [
    {
     "data": {
      "text/html": [
       "<div>\n",
       "<style scoped>\n",
       "    .dataframe tbody tr th:only-of-type {\n",
       "        vertical-align: middle;\n",
       "    }\n",
       "\n",
       "    .dataframe tbody tr th {\n",
       "        vertical-align: top;\n",
       "    }\n",
       "\n",
       "    .dataframe thead th {\n",
       "        text-align: right;\n",
       "    }\n",
       "</style>\n",
       "<table border=\"1\" class=\"dataframe\">\n",
       "  <thead>\n",
       "    <tr style=\"text-align: right;\">\n",
       "      <th></th>\n",
       "      <th>Duration(min)</th>\n",
       "      <th>500m</th>\n",
       "      <th>SpeedBeforePark</th>\n",
       "    </tr>\n",
       "  </thead>\n",
       "  <tbody>\n",
       "    <tr>\n",
       "      <th>0</th>\n",
       "      <td>52</td>\n",
       "      <td>1</td>\n",
       "      <td>0.00</td>\n",
       "    </tr>\n",
       "    <tr>\n",
       "      <th>1</th>\n",
       "      <td>0</td>\n",
       "      <td>1</td>\n",
       "      <td>2.75</td>\n",
       "    </tr>\n",
       "    <tr>\n",
       "      <th>2</th>\n",
       "      <td>30</td>\n",
       "      <td>0</td>\n",
       "      <td>11.35</td>\n",
       "    </tr>\n",
       "    <tr>\n",
       "      <th>3</th>\n",
       "      <td>24</td>\n",
       "      <td>1</td>\n",
       "      <td>48.55</td>\n",
       "    </tr>\n",
       "    <tr>\n",
       "      <th>4</th>\n",
       "      <td>16</td>\n",
       "      <td>0</td>\n",
       "      <td>30.45</td>\n",
       "    </tr>\n",
       "    <tr>\n",
       "      <th>...</th>\n",
       "      <td>...</td>\n",
       "      <td>...</td>\n",
       "      <td>...</td>\n",
       "    </tr>\n",
       "    <tr>\n",
       "      <th>41628</th>\n",
       "      <td>0</td>\n",
       "      <td>13</td>\n",
       "      <td>2.60</td>\n",
       "    </tr>\n",
       "    <tr>\n",
       "      <th>41629</th>\n",
       "      <td>0</td>\n",
       "      <td>0</td>\n",
       "      <td>44.75</td>\n",
       "    </tr>\n",
       "    <tr>\n",
       "      <th>41630</th>\n",
       "      <td>0</td>\n",
       "      <td>0</td>\n",
       "      <td>9.15</td>\n",
       "    </tr>\n",
       "    <tr>\n",
       "      <th>41631</th>\n",
       "      <td>0</td>\n",
       "      <td>2</td>\n",
       "      <td>5.45</td>\n",
       "    </tr>\n",
       "    <tr>\n",
       "      <th>41633</th>\n",
       "      <td>0</td>\n",
       "      <td>0</td>\n",
       "      <td>43.55</td>\n",
       "    </tr>\n",
       "  </tbody>\n",
       "</table>\n",
       "<p>33308 rows × 3 columns</p>\n",
       "</div>"
      ],
      "text/plain": [
       "       Duration(min)  500m  SpeedBeforePark\n",
       "0                 52     1             0.00\n",
       "1                  0     1             2.75\n",
       "2                 30     0            11.35\n",
       "3                 24     1            48.55\n",
       "4                 16     0            30.45\n",
       "...              ...   ...              ...\n",
       "41628              0    13             2.60\n",
       "41629              0     0            44.75\n",
       "41630              0     0             9.15\n",
       "41631              0     2             5.45\n",
       "41633              0     0            43.55\n",
       "\n",
       "[33308 rows x 3 columns]"
      ]
     },
     "execution_count": 13,
     "metadata": {},
     "output_type": "execute_result"
    }
   ],
   "source": [
    "train_data"
   ]
  },
  {
   "cell_type": "markdown",
   "metadata": {},
   "source": [
    "## Centering and Scaling  \n",
    "The Radial Basis Functon (RBF) assumes data are centered and scaled, \n",
    "each colume should have a mean value = 0, and a standard deviation = 1\n",
    "\n",
    "split data to training and testing datasets first (X_train, X_test, Y_train, Y_text)\n",
    "then scale sparately to avoid Data Leakage (occurs when information about the training dataset currupts or influences the testing dataset).   \n",
    "https://www.youtube.com/watch?v=8A7L0GsBiLQ&t=2314s"
   ]
  },
  {
   "cell_type": "code",
   "execution_count": 18,
   "metadata": {},
   "outputs": [],
   "source": [
    "# Format Data3: Centering and Scaling for RBF\n",
    "X_train, X_test, Y_train, Y_test = train_test_split(X, Y, random_state=42)  # Default train:test = 7:3\n",
    "# random_state: to generate different sequence\n",
    "X_train_scaled = scale(X_train)\n",
    "X_test_scaled = scale(X_test)"
   ]
  },
  {
   "cell_type": "code",
   "execution_count": 19,
   "metadata": {
    "scrolled": true
   },
   "outputs": [
    {
     "name": "stdout",
     "output_type": "stream",
     "text": [
      "(31226, 3)\n"
     ]
    },
    {
     "data": {
      "text/plain": [
       "array([[-0.10451519, -0.41939374,  0.8866988 ],\n",
       "       [-0.06333268,  1.06273014, -1.12247676],\n",
       "       [ 0.0034745 ,  0.35054074, -0.64316364],\n",
       "       ...,\n",
       "       [-0.10268486, -0.41939374,  1.56736721],\n",
       "       [-0.10176969, -0.40014538,  0.47304501],\n",
       "       [-0.10451519, -0.26540684, -0.98021488]])"
      ]
     },
     "execution_count": 19,
     "metadata": {},
     "output_type": "execute_result"
    }
   ],
   "source": [
    "print(X_train_scaled.shape) # == X_train_scaled\n",
    "X_train_scaled"
   ]
  },
  {
   "cell_type": "code",
   "execution_count": 20,
   "metadata": {
    "scrolled": false
   },
   "outputs": [
    {
     "name": "stdout",
     "output_type": "stream",
     "text": [
      "(10409, 3)\n"
     ]
    },
    {
     "data": {
      "text/plain": [
       "array([[-0.11583225, -0.43199916, -0.17921241],\n",
       "       [ 1.64709717, -0.43199916, -0.46230511],\n",
       "       [-0.11583225, -0.41242753, -1.11341833],\n",
       "       ...,\n",
       "       [-0.08849216, -0.43199916,  1.69790998],\n",
       "       [ 0.09985067, -0.37328427, -0.57118692],\n",
       "       [-0.11380706, -0.13842475, -0.11388332]])"
      ]
     },
     "execution_count": 20,
     "metadata": {},
     "output_type": "execute_result"
    }
   ],
   "source": [
    "print(X_test_scaled.shape)\n",
    "X_test_scaled"
   ]
  },
  {
   "cell_type": "code",
   "execution_count": 21,
   "metadata": {
    "scrolled": false
   },
   "outputs": [
    {
     "data": {
      "text/plain": [
       "31164    0\n",
       "40827    0\n",
       "23467    0\n",
       "21444    0\n",
       "17460    0\n",
       "        ..\n",
       "32359    0\n",
       "29498    0\n",
       "16801    0\n",
       "9298     0\n",
       "9536     0\n",
       "Name: TrueStopFixed, Length: 10409, dtype: int64"
      ]
     },
     "execution_count": 21,
     "metadata": {},
     "output_type": "execute_result"
    }
   ],
   "source": [
    "Y_test"
   ]
  },
  {
   "cell_type": "markdown",
   "metadata": {},
   "source": [
    "## Build a preliminary support vector machine "
   ]
  },
  {
   "cell_type": "code",
   "execution_count": 23,
   "metadata": {},
   "outputs": [
    {
     "data": {
      "text/plain": [
       "SVC(C=1, kernel='linear', random_state=42)"
      ]
     },
     "execution_count": 23,
     "metadata": {},
     "output_type": "execute_result"
    }
   ],
   "source": [
    "clf_svm = SVC(kernel='linear', C=1, random_state=42)\n",
    "clf_svm.fit(X_train_scaled, Y_train)"
   ]
  },
  {
   "cell_type": "code",
   "execution_count": 13,
   "metadata": {},
   "outputs": [
    {
     "data": {
      "text/plain": [
       "<sklearn.metrics._plot.confusion_matrix.ConfusionMatrixDisplay at 0x7fa9a3b88c10>"
      ]
     },
     "execution_count": 13,
     "metadata": {},
     "output_type": "execute_result"
    },
    {
     "data": {
      "image/png": "[encoded data removed]",
      "text/plain": [
       "<Figure size 432x288 with 2 Axes>"
      ]
     },
     "metadata": {
      "needs_background": "light"
     },
     "output_type": "display_data"
    }
   ],
   "source": [
    "plot_confusion_matrix(clf_svm,\n",
    "                      X_test_scaled,\n",
    "                      Y_test,\n",
    "                      values_format='d',\n",
    "                      # yticks_rotation= 'vertical',\n",
    "                      display_labels=['Non-delivery Stop', 'Delivery Stop'])"
   ]
  },
  {
   "cell_type": "code",
   "execution_count": null,
   "metadata": {},
   "outputs": [],
   "source": [
    "from sklearn.model_selection import cross_val_score\n",
    "scores = cross_val_score(clf_svm, X, Y, cv=10)\n",
    "print(scores)"
   ]
  },
  {
   "cell_type": "code",
   "execution_count": 14,
   "metadata": {
    "scrolled": true
   },
   "outputs": [
    {
     "name": "stdout",
     "output_type": "stream",
     "text": [
      "[0 0 0 ... 0 0 0]\n"
     ]
    }
   ],
   "source": [
    "print(clf_svm.predict(X_test_scaled))"
   ]
  },
  {
   "cell_type": "code",
   "execution_count": 15,
   "metadata": {},
   "outputs": [
    {
     "name": "stdout",
     "output_type": "stream",
     "text": [
      "(10409, 3)\n"
     ]
    }
   ],
   "source": [
    "print(X_test_scaled.shape)"
   ]
  },
  {
   "cell_type": "code",
   "execution_count": 16,
   "metadata": {},
   "outputs": [
    {
     "name": "stdout",
     "output_type": "stream",
     "text": [
      "(10409,)\n"
     ]
    }
   ],
   "source": [
    "print(clf_svm.predict(X_test_scaled).shape)"
   ]
  },
  {
   "cell_type": "code",
   "execution_count": 17,
   "metadata": {},
   "outputs": [
    {
     "name": "stdout",
     "output_type": "stream",
     "text": [
      "Train Set:  0.9879587523217831\n",
      "Test Set:  0.9889518685752714\n"
     ]
    }
   ],
   "source": [
    "print(\"Train Set: \", clf_svm.score(X_train_scaled, Y_train))\n",
    "print(\"Test Set: \", clf_svm.score(X_test_scaled, Y_test))"
   ]
  },
  {
   "cell_type": "code",
   "execution_count": 18,
   "metadata": {},
   "outputs": [
    {
     "name": "stdout",
     "output_type": "stream",
     "text": [
      "Train Set:  0.9879587523217831\n",
      "Test Set:  0.9889518685752714\n"
     ]
    }
   ],
   "source": [
    "from sklearn.metrics import accuracy_score\n",
    "tra_label = clf_svm.predict(X_train_scaled)\n",
    "tes_label = clf_svm.predict(X_test_scaled)\n",
    "print(\"Train Set: \", accuracy_score(Y_train, tra_label))\n",
    "print(\"Test Set: \", accuracy_score(Y_test, tes_label))"
   ]
  },
  {
   "cell_type": "code",
   "execution_count": null,
   "metadata": {},
   "outputs": [],
   "source": []
  },
  {
   "cell_type": "code",
   "execution_count": null,
   "metadata": {},
   "outputs": [],
   "source": []
  },
  {
   "cell_type": "markdown",
   "metadata": {},
   "source": [
    "## Try KCV"
   ]
  },
  {
   "cell_type": "code",
   "execution_count": null,
   "metadata": {},
   "outputs": [],
   "source": [
    "from sklearn.model_selection import cross_val_score\n",
    "scores = cross_val_score(clf_svm, X, Y, cv=10)\n",
    "print(scores)\n",
    "\n",
    "# https://stackoverflow.com/questions/47663694/how-to-run-svc-classifier-after-running-10-fold-cross-validation-in-sklearn"
   ]
  },
  {
   "cell_type": "code",
   "execution_count": null,
   "metadata": {},
   "outputs": [],
   "source": []
  },
  {
   "cell_type": "markdown",
   "metadata": {},
   "source": [
    "## Try 2: Penalized-SVM / Cost-Sensitive  \n",
    "https://www.analyticsvidhya.com/blog/2020/07/10-techniques-to-deal-with-class-imbalance-in-machine-learning/"
   ]
  },
  {
   "cell_type": "code",
   "execution_count": null,
   "metadata": {},
   "outputs": [],
   "source": [
    "# load library\n",
    "from sklearn.svm import SVC\n"
   ]
  },
  {
   "cell_type": "code",
   "execution_count": null,
   "metadata": {},
   "outputs": [],
   "source": [
    "# we can add class_weight='balanced' to add panalize mistake\n",
    "svc_model = SVC(class_weight='balanced', probability=True)\n"
   ]
  },
  {
   "cell_type": "code",
   "execution_count": null,
   "metadata": {},
   "outputs": [],
   "source": [
    "svc_model.fit(x_train, y_train)"
   ]
  },
  {
   "cell_type": "code",
   "execution_count": null,
   "metadata": {},
   "outputs": [],
   "source": [
    "svc_predict = svc_model.predict(x_test)# check performance\n",
    "print('ROCAUC score:',roc_auc_score(y_test, svc_predict))\n",
    "print('Accuracy score:',accuracy_score(y_test, svc_predict))\n",
    "print('F1 score:',f1_score(y_test, svc_predict))"
   ]
  },
  {
   "cell_type": "code",
   "execution_count": null,
   "metadata": {},
   "outputs": [],
   "source": []
  },
  {
   "cell_type": "code",
   "execution_count": null,
   "metadata": {},
   "outputs": [],
   "source": []
  },
  {
   "cell_type": "code",
   "execution_count": null,
   "metadata": {},
   "outputs": [],
   "source": [
    "# Build your classifier\n",
    "classifier = svm.SVC()\n",
    "\n",
    "# Train it on the entire training data set\n",
    "classifier.fit(X_train, y_train)\n",
    "\n",
    "# Get predictions on the test set\n",
    "y_pred = classifier.predict(X_test)"
   ]
  },
  {
   "cell_type": "code",
   "execution_count": null,
   "metadata": {},
   "outputs": [],
   "source": [
    "from sklearn.metrics import accuracy_score\n",
    "print(accuracy_score(y_test, y_pred))"
   ]
  },
  {
   "cell_type": "markdown",
   "metadata": {},
   "source": [
    "Is this the same with \n",
    "clf_svm.score ?  \n",
    "但是这个没有交叉验证\n"
   ]
  },
  {
   "cell_type": "code",
   "execution_count": null,
   "metadata": {},
   "outputs": [],
   "source": []
  },
  {
   "cell_type": "code",
   "execution_count": null,
   "metadata": {},
   "outputs": [],
   "source": []
  },
  {
   "cell_type": "markdown",
   "metadata": {},
   "source": [
    "## Optimise Parameters with Cross Validation"
   ]
  },
  {
   "cell_type": "code",
   "execution_count": 19,
   "metadata": {},
   "outputs": [],
   "source": [
    "param_grid = [\n",
    "    {'C': [0.5, 1, 10, 1000],  # Values for C must be > 0\n",
    "     'gamma': ['scale', 1, 0.1, 0.001, 0.0001],\n",
    "     'kernel': ['rbf', 'linear', 'poly']},\n",
    "]\n",
    "\n",
    "optimal_params = GridSearchCV(\n",
    "    SVC(),\n",
    "    param_grid,\n",
    "    cv=5,  # fold of cross validation\n",
    "    scoring='accuracy',  # default: slightly improved but hardly\n",
    "    # other scoring options: \n",
    "    # 'balanced_accuracy', slightly improved but hardly\n",
    "    # 'f1', terrible\n",
    "    # 'f1_micro', slightly improved but hardly\n",
    "    # 'f1_macro', same as default\n",
    "    # 'f1_weighted', same as default\n",
    "    # 'roc_auc', terrible\n",
    "    verbose=0  # set verbose=2, if want to see what grid search is doing\n",
    ")"
   ]
  },
  {
   "cell_type": "code",
   "execution_count": null,
   "metadata": {},
   "outputs": [],
   "source": [
    "optimal_params.fit(X_train_scaled, Y_train)\n",
    "print(optimal_params.best_params_)"
   ]
  },
  {
   "cell_type": "markdown",
   "metadata": {},
   "source": [
    "## Plot optimised result"
   ]
  },
  {
   "cell_type": "code",
   "execution_count": null,
   "metadata": {},
   "outputs": [],
   "source": [
    "# Plot optimised result\n",
    "clf_svm = SVC(random_state=42, C=0.5, gamma=0.1, kernel='rbf')  # based on the result of optimisation\n",
    "clf_svm.fit(X_train_scaled, Y_train)\n",
    "plot_confusion_matrix(clf_svm,\n",
    "                      X_test_scaled,\n",
    "                      Y_test,\n",
    "                      values_format='d',\n",
    "                      # yticks_rotation= 'vertical',\n",
    "                      display_labels=['Non-delivery Stop', 'Delivery Stop'])\n",
    "plt.show()"
   ]
  },
  {
   "cell_type": "code",
   "execution_count": null,
   "metadata": {},
   "outputs": [],
   "source": [
    "print(\"Train Set Performance\", clf_svm.score(X_train_scaled, Y_train))\n",
    "print(\"Test Set Performance\", clf_svm.score(X_test_scaled, Y_test))"
   ]
  },
  {
   "cell_type": "code",
   "execution_count": null,
   "metadata": {},
   "outputs": [],
   "source": []
  },
  {
   "cell_type": "code",
   "execution_count": null,
   "metadata": {},
   "outputs": [],
   "source": []
  },
  {
   "cell_type": "code",
   "execution_count": null,
   "metadata": {},
   "outputs": [],
   "source": []
  },
  {
   "cell_type": "markdown",
   "metadata": {},
   "source": [
    "Imbalanced dataset and svm\n",
    "https://www.youtube.com/watch?v=jbY0jJD1oC8\n",
    "\n"
   ]
  }
 ],
 "metadata": {
  "kernelspec": {
   "display_name": "Python 3",
   "language": "python",
   "name": "python3"
  },
  "language_info": {
   "codemirror_mode": {
    "name": "ipython",
    "version": 3
   },
   "file_extension": ".py",
   "mimetype": "text/x-python",
   "name": "python",
   "nbconvert_exporter": "python",
   "pygments_lexer": "ipython3",
   "version": "3.7.9"
  }
 },
 "nbformat": 4,
 "nbformat_minor": 4
}
